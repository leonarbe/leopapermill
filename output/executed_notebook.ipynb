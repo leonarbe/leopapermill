{
 "cells": [
  {
   "cell_type": "code",
   "execution_count": 1,
   "id": "768b8e08",
   "metadata": {
    "execution": {
     "iopub.execute_input": "2025-10-03T03:32:21.951631Z",
     "iopub.status.busy": "2025-10-03T03:32:21.951335Z",
     "iopub.status.idle": "2025-10-03T03:32:21.959649Z",
     "shell.execute_reply": "2025-10-03T03:32:21.958927Z"
    },
    "papermill": {
     "duration": 0.01226,
     "end_time": "2025-10-03T03:32:21.960811",
     "exception": false,
     "start_time": "2025-10-03T03:32:21.948551",
     "status": "completed"
    },
    "tags": [
     "parameters"
    ]
   },
   "outputs": [],
   "source": [
    "# Parameters cell - papermill will inject parameters here\n",
    "output_folder = 'output'"
   ]
  },
  {
   "cell_type": "code",
   "execution_count": 2,
   "id": "01d1df62",
   "metadata": {
    "execution": {
     "iopub.execute_input": "2025-10-03T03:32:21.964037Z",
     "iopub.status.busy": "2025-10-03T03:32:21.963798Z",
     "iopub.status.idle": "2025-10-03T03:32:21.967041Z",
     "shell.execute_reply": "2025-10-03T03:32:21.966440Z"
    },
    "papermill": {
     "duration": 0.005933,
     "end_time": "2025-10-03T03:32:21.968152",
     "exception": false,
     "start_time": "2025-10-03T03:32:21.962219",
     "status": "completed"
    },
    "tags": [
     "injected-parameters"
    ]
   },
   "outputs": [],
   "source": [
    "# Parameters\n",
    "output_folder = \"output\"\n"
   ]
  },
  {
   "cell_type": "code",
   "execution_count": 3,
   "id": "93d122f7",
   "metadata": {
    "execution": {
     "iopub.execute_input": "2025-10-03T03:32:21.970782Z",
     "iopub.status.busy": "2025-10-03T03:32:21.970567Z",
     "iopub.status.idle": "2025-10-03T03:32:21.976031Z",
     "shell.execute_reply": "2025-10-03T03:32:21.975302Z"
    },
    "papermill": {
     "duration": 0.007921,
     "end_time": "2025-10-03T03:32:21.977035",
     "exception": false,
     "start_time": "2025-10-03T03:32:21.969114",
     "status": "completed"
    },
    "tags": []
   },
   "outputs": [
    {
     "name": "stdout",
     "output_type": "stream",
     "text": [
      "Current timestamp: 20251003_033221\n",
      "File created: output/20251003_033221.txt\n"
     ]
    }
   ],
   "source": [
    "import os\n",
    "from datetime import datetime\n",
    "\n",
    "# Get current timestamp\n",
    "timestamp = datetime.now().strftime('%Y%m%d_%H%M%S')\n",
    "print(f\"Current timestamp: {timestamp}\")\n",
    "\n",
    "# Create output folder if it doesn't exist\n",
    "os.makedirs(output_folder, exist_ok=True)\n",
    "\n",
    "# Create file with timestamp as name\n",
    "filename = os.path.join(output_folder, f\"{timestamp}.txt\")\n",
    "with open(filename, 'w') as f:\n",
    "    f.write(f\"File created at: {timestamp}\\n\")\n",
    "\n",
    "print(f\"File created: {filename}\")"
   ]
  }
 ],
 "metadata": {
  "kernelspec": {
   "display_name": "Python 3",
   "language": "python",
   "name": "python3"
  },
  "language_info": {
   "codemirror_mode": {
    "name": "ipython",
    "version": 3
   },
   "file_extension": ".py",
   "mimetype": "text/x-python",
   "name": "python",
   "nbconvert_exporter": "python",
   "pygments_lexer": "ipython3",
   "version": "3.9.23"
  },
  "papermill": {
   "default_parameters": {},
   "duration": 2.061428,
   "end_time": "2025-10-03T03:32:22.093559",
   "environment_variables": {},
   "exception": null,
   "input_path": "notebook.ipynb",
   "output_path": "output/executed_notebook.ipynb",
   "parameters": {
    "output_folder": "output"
   },
   "start_time": "2025-10-03T03:32:20.032131",
   "version": "2.4.0"
  }
 },
 "nbformat": 4,
 "nbformat_minor": 5
}