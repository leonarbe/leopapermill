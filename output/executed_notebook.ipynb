{
 "cells": [
  {
   "cell_type": "code",
   "execution_count": 1,
   "id": "2535146e",
   "metadata": {
    "execution": {
     "iopub.execute_input": "2025-10-03T03:23:23.986660Z",
     "iopub.status.busy": "2025-10-03T03:23:23.986393Z",
     "iopub.status.idle": "2025-10-03T03:23:23.993814Z",
     "shell.execute_reply": "2025-10-03T03:23:23.993279Z"
    },
    "papermill": {
     "duration": 0.011273,
     "end_time": "2025-10-03T03:23:23.994839",
     "exception": false,
     "start_time": "2025-10-03T03:23:23.983566",
     "status": "completed"
    },
    "tags": [
     "parameters"
    ]
   },
   "outputs": [],
   "source": [
    "# Parameters cell - papermill will inject parameters here\n",
    "output_folder = 'output'"
   ]
  },
  {
   "cell_type": "code",
   "execution_count": 2,
   "id": "40347757",
   "metadata": {
    "execution": {
     "iopub.execute_input": "2025-10-03T03:23:23.997724Z",
     "iopub.status.busy": "2025-10-03T03:23:23.997537Z",
     "iopub.status.idle": "2025-10-03T03:23:24.000429Z",
     "shell.execute_reply": "2025-10-03T03:23:23.999876Z"
    },
    "papermill": {
     "duration": 0.00534,
     "end_time": "2025-10-03T03:23:24.001457",
     "exception": false,
     "start_time": "2025-10-03T03:23:23.996117",
     "status": "completed"
    },
    "tags": [
     "injected-parameters"
    ]
   },
   "outputs": [],
   "source": [
    "# Parameters\n",
    "output_folder = \"output\"\n"
   ]
  },
  {
   "cell_type": "code",
   "execution_count": 3,
   "id": "1a4cdf2b",
   "metadata": {
    "execution": {
     "iopub.execute_input": "2025-10-03T03:23:24.003970Z",
     "iopub.status.busy": "2025-10-03T03:23:24.003786Z",
     "iopub.status.idle": "2025-10-03T03:23:24.008717Z",
     "shell.execute_reply": "2025-10-03T03:23:24.008161Z"
    },
    "papermill": {
     "duration": 0.007304,
     "end_time": "2025-10-03T03:23:24.009697",
     "exception": false,
     "start_time": "2025-10-03T03:23:24.002393",
     "status": "completed"
    },
    "tags": []
   },
   "outputs": [
    {
     "name": "stdout",
     "output_type": "stream",
     "text": [
      "Current timestamp: 20251003_032324\n",
      "File created: output/20251003_032324.txt\n"
     ]
    }
   ],
   "source": [
    "import os\n",
    "from datetime import datetime\n",
    "\n",
    "# Get current timestamp\n",
    "timestamp = datetime.now().strftime('%Y%m%d_%H%M%S')\n",
    "print(f\"Current timestamp: {timestamp}\")\n",
    "\n",
    "# Create output folder if it doesn't exist\n",
    "os.makedirs(output_folder, exist_ok=True)\n",
    "\n",
    "# Create file with timestamp as name\n",
    "filename = os.path.join(output_folder, f\"{timestamp}.txt\")\n",
    "with open(filename, 'w') as f:\n",
    "    f.write(f\"File created at: {timestamp}\\n\")\n",
    "\n",
    "print(f\"File created: {filename}\")"
   ]
  }
 ],
 "metadata": {
  "kernelspec": {
   "display_name": "Python 3",
   "language": "python",
   "name": "python3"
  },
  "language_info": {
   "codemirror_mode": {
    "name": "ipython",
    "version": 3
   },
   "file_extension": ".py",
   "mimetype": "text/x-python",
   "name": "python",
   "nbconvert_exporter": "python",
   "pygments_lexer": "ipython3",
   "version": "3.9.23"
  },
  "papermill": {
   "default_parameters": {},
   "duration": 1.777536,
   "end_time": "2025-10-03T03:23:24.125927",
   "environment_variables": {},
   "exception": null,
   "input_path": "notebook.ipynb",
   "output_path": "output/executed_notebook.ipynb",
   "parameters": {
    "output_folder": "output"
   },
   "start_time": "2025-10-03T03:23:22.348391",
   "version": "2.4.0"
  }
 },
 "nbformat": 4,
 "nbformat_minor": 5
}